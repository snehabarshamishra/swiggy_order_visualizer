{
  "nbformat": 4,
  "nbformat_minor": 0,
  "metadata": {
    "colab": {
      "name": "visualizer.ipynb",
      "provenance": []
    },
    "kernelspec": {
      "name": "python3",
      "display_name": "Python 3"
    }
  },
  "cells": [
    {
      "cell_type": "code",
      "metadata": {
        "id": "jVeDJ45hpN0B",
        "colab_type": "code",
        "outputId": "6cfcf93e-f487-4b27-8733-c34e6de23360",
        "colab": {
          "base_uri": "https://localhost:8080/",
          "height": 119
        }
      },
      "source": [
        "! rm -rf  swiggy_order_visualizer\n",
        "! git clone https://github.com/snehabarshamishra/swiggy_order_visualizer"
      ],
      "execution_count": 9,
      "outputs": [
        {
          "output_type": "stream",
          "text": [
            "Cloning into 'swiggy_order_visualizer'...\n",
            "remote: Enumerating objects: 15, done.\u001b[K\n",
            "remote: Counting objects:   6% (1/15)\u001b[K\rremote: Counting objects:  13% (2/15)\u001b[K\rremote: Counting objects:  20% (3/15)\u001b[K\rremote: Counting objects:  26% (4/15)\u001b[K\rremote: Counting objects:  33% (5/15)\u001b[K\rremote: Counting objects:  40% (6/15)\u001b[K\rremote: Counting objects:  46% (7/15)\u001b[K\rremote: Counting objects:  53% (8/15)\u001b[K\rremote: Counting objects:  60% (9/15)\u001b[K\rremote: Counting objects:  66% (10/15)\u001b[K\rremote: Counting objects:  73% (11/15)\u001b[K\rremote: Counting objects:  80% (12/15)\u001b[K\rremote: Counting objects:  86% (13/15)\u001b[K\rremote: Counting objects:  93% (14/15)\u001b[K\rremote: Counting objects: 100% (15/15)\u001b[K\rremote: Counting objects: 100% (15/15), done.\u001b[K\n",
            "remote: Compressing objects:   8% (1/12)\u001b[K\rremote: Compressing objects:  16% (2/12)\u001b[K\rremote: Compressing objects:  25% (3/12)\u001b[K\rremote: Compressing objects:  33% (4/12)\u001b[K\rremote: Compressing objects:  41% (5/12)\u001b[K\rremote: Compressing objects:  50% (6/12)\u001b[K\rremote: Compressing objects:  58% (7/12)\u001b[K\rremote: Compressing objects:  66% (8/12)\u001b[K\rremote: Compressing objects:  75% (9/12)\u001b[K\rremote: Compressing objects:  83% (10/12)\u001b[K\rremote: Compressing objects:  91% (11/12)\u001b[K\rremote: Compressing objects: 100% (12/12)\u001b[K\rremote: Compressing objects: 100% (12/12), done.\u001b[K\n",
            "Unpacking objects:   6% (1/15)   \rUnpacking objects:  13% (2/15)   \rUnpacking objects:  20% (3/15)   \rUnpacking objects:  26% (4/15)   \rUnpacking objects:  33% (5/15)   \rUnpacking objects:  40% (6/15)   \rUnpacking objects:  46% (7/15)   \rUnpacking objects:  53% (8/15)   \rUnpacking objects:  60% (9/15)   \rremote: Total 15 (delta 3), reused 0 (delta 0), pack-reused 0\u001b[K\n",
            "Unpacking objects:  66% (10/15)   \rUnpacking objects:  73% (11/15)   \rUnpacking objects:  80% (12/15)   \rUnpacking objects:  86% (13/15)   \rUnpacking objects:  93% (14/15)   \rUnpacking objects: 100% (15/15)   \rUnpacking objects: 100% (15/15), done.\n"
          ],
          "name": "stdout"
        }
      ]
    },
    {
      "cell_type": "code",
      "metadata": {
        "id": "t3aGumAHqgTx",
        "colab_type": "code",
        "outputId": "49d3fb6c-c31b-40d2-e392-eca43a6e0afe",
        "colab": {
          "base_uri": "https://localhost:8080/",
          "height": 51
        }
      },
      "source": [
        "!ls\n",
        "!pwd"
      ],
      "execution_count": 11,
      "outputs": [
        {
          "output_type": "stream",
          "text": [
            "sample_data  swiggy_order_visualizer\n",
            "/content\n"
          ],
          "name": "stdout"
        }
      ]
    },
    {
      "cell_type": "code",
      "metadata": {
        "id": "Efti8g2kucRe",
        "colab_type": "code",
        "colab": {
          "base_uri": "https://localhost:8080/",
          "height": 1000
        },
        "outputId": "6f4a3738-7510-41f0-9fb9-65a1e6e74d15"
      },
      "source": [
        "import json\n",
        "f = open(\"/content/swiggy_order_visualizer/sample_data.json\", \"r\")\n",
        "order_history = f.read()\n",
        "order_history_json = json.loads(order_history)"
      ],
      "execution_count": 21,
      "outputs": [
        {
          "output_type": "execute_result",
          "data": {
            "text/plain": [
              "{'GST_on_discounted_total_delivery_fee': {},\n",
              " 'GST_on_subscription': {},\n",
              " 'actual_sla_time': '32',\n",
              " 'agreement_type': '1',\n",
              " 'alliance_offers_discount': 0,\n",
              " 'batch_opt_in': 'NOT_SHOWN',\n",
              " 'batch_opt_in_discount': 0,\n",
              " 'billing_address_id': '4605158',\n",
              " 'billing_lat': '12.924741',\n",
              " 'billing_lng': '77.671629',\n",
              " 'cancellation_fee_applied': 0,\n",
              " 'cancellation_fee_collected': 0,\n",
              " 'cancellation_fee_collected_total': 0,\n",
              " 'cess_on_cancellation_fee': {},\n",
              " 'cess_on_commission': {},\n",
              " 'cess_on_convenience_fee': {},\n",
              " 'cess_on_delivery_fee': {},\n",
              " 'cess_on_discounted_total_delivery_fee': {},\n",
              " 'cess_on_subscription': {},\n",
              " 'charges': {'Cancellation Fee': '0',\n",
              "  'Convenience Fee': '0',\n",
              "  'Delivery Charges': '0',\n",
              "  'GST': '16.4',\n",
              "  'Packing Charges': '17',\n",
              "  'Service Charges': '0',\n",
              "  'Service Tax': '0',\n",
              "  'Total Delivery Fees': '0',\n",
              "  'Vat': '0'},\n",
              " 'commission_on_full_bill': True,\n",
              " 'configurations': {},\n",
              " 'convenience_fee': '0',\n",
              " 'converted_to_cod': False,\n",
              " 'coupon_applied': '',\n",
              " 'coupon_code': '',\n",
              " 'coupon_discount': 0,\n",
              " 'coupon_discount_effective': 0,\n",
              " 'cust_lat_lng': {'lat': '12.924741', 'lng': '77.671629'},\n",
              " 'customer_care_number': '08067466794',\n",
              " 'customer_id': '1564740',\n",
              " 'customer_ip': '49.207.59.8, 49.207.59.8, 127.0.0.1, 172.31.9.32',\n",
              " 'customer_user_agent': 'Swiggy-Android',\n",
              " 'de_pickedup_refund': 0,\n",
              " 'defaulting_lat': '12.924741',\n",
              " 'defaulting_lng': '77.671629',\n",
              " 'defaulting_type': 'last-known-location-saved-address',\n",
              " 'delayed_placing': 0,\n",
              " 'delivered_time_in_seconds': '1585751630',\n",
              " 'delivery_address': {'address': 'Parijatha Avenue, Green Glen Layout, Bellandur, Bengaluru, Karnataka 560103',\n",
              "  'address_line1': 'Parijatha Avenue, Green Glen Layout, Bellandur, Bengaluru, Karnataka 560103',\n",
              "  'annotation': 'home',\n",
              "  'area': 'Green Glen Layout',\n",
              "  'city': 'Bangalore',\n",
              "  'email': 'sbairishal@gmail.com',\n",
              "  'flat_no': '34, 3rd Floor, Devina Fragrance',\n",
              "  'id': '4605158',\n",
              "  'landmark': 'Near ICICI Bank Bellandur',\n",
              "  'lat': '12.924741',\n",
              "  'lng': '77.671629',\n",
              "  'mobile': '9986936104',\n",
              "  'name': 'Soumya Ranjan Bairishal',\n",
              "  'reverse_geo_code_failed': False},\n",
              " 'delivery_boy': {'id': '807307',\n",
              "  'image_url': None,\n",
              "  'mobile': '7259280285',\n",
              "  'name': 'Harish',\n",
              "  'trackable': 0},\n",
              " 'delivery_discount_hit': 0,\n",
              " 'delivery_fee_details': {'delfee_after_reversal': {'currency': 'CURRENCY_CODE_INR',\n",
              "   'value': 0},\n",
              "  'delfee_after_tax': {'currency': 'CURRENCY_CODE_INR', 'value': 0},\n",
              "  'delfee_before_tax': {'currency': 'CURRENCY_CODE_INR', 'value': 0},\n",
              "  'delfee_tax_details': {'is_tax_exclusive': True,\n",
              "   'tax_breakup': [{'calculated_tax_value': {'currency': 'CURRENCY_CODE_INR',\n",
              "      'value': 0},\n",
              "     'tax_name': 'CGST',\n",
              "     'tax_type': 'TAX_TYPE_CGST',\n",
              "     'tax_value': '9',\n",
              "     'tax_value_type': 'TAX_VALUE_TYPE_PERCENTAGE'},\n",
              "    {'calculated_tax_value': {'currency': 'CURRENCY_CODE_INR', 'value': 0},\n",
              "     'tax_name': 'SGST',\n",
              "     'tax_type': 'TAX_TYPE_SGST',\n",
              "     'tax_value': '9',\n",
              "     'tax_value_type': 'TAX_VALUE_TYPE_PERCENTAGE'},\n",
              "    {'calculated_tax_value': {'currency': 'CURRENCY_CODE_INR', 'value': 0},\n",
              "     'tax_name': 'IGST',\n",
              "     'tax_type': 'TAX_TYPE_IGST',\n",
              "     'tax_value': '0',\n",
              "     'tax_value_type': 'TAX_VALUE_TYPE_PERCENTAGE'}],\n",
              "   'total_tax': {'calculated_tax_value': {'currency': 'CURRENCY_CODE_INR',\n",
              "     'value': 0},\n",
              "    'tax_name': 'GST',\n",
              "    'tax_type': 'TAX_TYPE_GST',\n",
              "    'tax_value': '18',\n",
              "    'tax_value_type': 'TAX_VALUE_TYPE_PERCENTAGE'}}},\n",
              " 'delivery_fee_reversal': 0,\n",
              " 'delivery_fee_reversal_breakup': {'distanceFee': 0,\n",
              "  'specialFee': 0,\n",
              "  'thresholdFee': 0,\n",
              "  'timeFee': 0},\n",
              " 'delivery_time_in_seconds': '1974',\n",
              " 'device_id': 'e28c5a56d6e41e35',\n",
              " 'discounted_total_delivery_charge_actual': '0',\n",
              " 'discounted_total_delivery_charge_gst_expression': '18',\n",
              " 'discounted_total_delivery_fee': 0,\n",
              " 'distance_calc_method': 'GDMA_CACHE',\n",
              " 'distance_fee': 0,\n",
              " 'distance_fee_effective': 0,\n",
              " 'edit_refund_amount': 0,\n",
              " 'first_order': False,\n",
              " 'free_del_break_up': {'distanceFee': 0,\n",
              "  'rainFee': False,\n",
              "  'specialFee': 0,\n",
              "  'thresholdFee': 25,\n",
              "  'timeFee': 0},\n",
              " 'free_delivery_discount_hit': 25,\n",
              " 'free_gifts': [],\n",
              " 'free_shipping': '0',\n",
              " 'freebie_discount_hit': 0,\n",
              " 'has_rating': '0',\n",
              " 'initiation_source': 0,\n",
              " 'is_assured': 0,\n",
              " 'is_cancellable': False,\n",
              " 'is_coupon_applied': False,\n",
              " 'is_first_order_delivered': True,\n",
              " 'is_ivr_enabled': '0',\n",
              " 'is_long_distance': False,\n",
              " 'is_partner_enable': True,\n",
              " 'is_refund_initiated': 0,\n",
              " 'is_replicated': False,\n",
              " 'is_select': False,\n",
              " 'item_total': 311,\n",
              " 'key': 'L3I14W',\n",
              " 'last_failed_order_id': 0,\n",
              " 'mCancellationTime': 0,\n",
              " 'offers_data': '',\n",
              " 'on_time': True,\n",
              " 'order_delivery_charge': 0,\n",
              " 'order_delivery_status': 'delivered',\n",
              " 'order_discount': 0,\n",
              " 'order_discount_effective': 0,\n",
              " 'order_discount_without_freebie': 0,\n",
              " 'order_id': 68824855964,\n",
              " 'order_incoming': '0',\n",
              " 'order_items': [{'added_by_user_id': -1,\n",
              "   'added_by_username': '',\n",
              "   'addons': [],\n",
              "   'category_details': {'category': 'Hearty Eats!',\n",
              "    'sub_category': 'Pizzas (7 Inches)'},\n",
              "   'external_item_id': '',\n",
              "   'global_main_category': '',\n",
              "   'global_sub_category': '',\n",
              "   'group_user_item_map': {},\n",
              "   'image_id': 'etuxqc2nwoo4nq5bubpf',\n",
              "   'is_veg': '1',\n",
              "   'item_alliance_offers_discount': 0,\n",
              "   'item_charges': {'GST': '0',\n",
              "    'Service Charges': '0',\n",
              "    'Service Tax': '0',\n",
              "    'Vat': '0'},\n",
              "   'item_delivery_fee_reversal': 0,\n",
              "   'item_id': '10314647',\n",
              "   'item_restaurant_offers_discount': 0,\n",
              "   'item_swiggy_discount_hit_effective': 0,\n",
              "   'item_swiggy_offers_discount': 0,\n",
              "   'item_swiggy_offers_discount_effective': 0,\n",
              "   'meal_quantity': '1',\n",
              "   'name': 'Margharita Pizza',\n",
              "   'packing_charges': '10',\n",
              "   'quantity': '1',\n",
              "   'single_variant': False,\n",
              "   'subtotal': '152',\n",
              "   'total': '162',\n",
              "   'variants': []},\n",
              "  {'added_by_user_id': -1,\n",
              "   'added_by_username': '',\n",
              "   'addons': [],\n",
              "   'category_details': {'category': 'Small Eats!',\n",
              "    'sub_category': 'Quessadila'},\n",
              "   'external_item_id': '',\n",
              "   'global_main_category': 'null',\n",
              "   'global_sub_category': 'null',\n",
              "   'group_user_item_map': {},\n",
              "   'image_id': 'sliqc5dpvtnnaaunh2o3',\n",
              "   'is_veg': '1',\n",
              "   'item_alliance_offers_discount': 0,\n",
              "   'item_charges': {'GST': '0',\n",
              "    'Service Charges': '0',\n",
              "    'Service Tax': '0',\n",
              "    'Vat': '0'},\n",
              "   'item_delivery_fee_reversal': 0,\n",
              "   'item_id': '26744673',\n",
              "   'item_restaurant_offers_discount': 0,\n",
              "   'item_swiggy_discount_hit_effective': 0,\n",
              "   'item_swiggy_offers_discount': 0,\n",
              "   'item_swiggy_offers_discount_effective': 0,\n",
              "   'meal_quantity': '1',\n",
              "   'name': 'Cottage Cheese Quesadillas',\n",
              "   'packing_charges': '7',\n",
              "   'quantity': '1',\n",
              "   'single_variant': False,\n",
              "   'subtotal': '159',\n",
              "   'total': '166',\n",
              "   'variants': []}],\n",
              " 'order_meals': [],\n",
              " 'order_payment_method': 'PayTM-SSO',\n",
              " 'order_placement_status': '1',\n",
              " 'order_restaurant_bill': '344',\n",
              " 'order_spending': '0',\n",
              " 'order_status': 'Delivered',\n",
              " 'order_subscriptions': [],\n",
              " 'order_tags': ['SUPER'],\n",
              " 'order_tax': 16.4,\n",
              " 'order_time': '2020-04-01 19:30:56',\n",
              " 'order_total': 364,\n",
              " 'order_type': 'regular',\n",
              " 'ordered_time_in_seconds': 1585749656,\n",
              " 'original_order_total': 364,\n",
              " 'overbooking': '0',\n",
              " 'partner_id': '43850',\n",
              " 'pay_by_system_value': True,\n",
              " 'payment': 'successful',\n",
              " 'paymentTransactions': [{'amount': '364.0',\n",
              "   'couponApplied': '',\n",
              "   'paymentGateway': None,\n",
              "   'paymentMeta': {'bankName': None,\n",
              "    'binNumber': None,\n",
              "    'cardNumber': None,\n",
              "    'pgType': None},\n",
              "   'paymentMethod': 'PayTM-SSO',\n",
              "   'pgResponseTime': '2020-04-01 19:30:56',\n",
              "   'pgTransactionId': '20200401111212800110168307921914336',\n",
              "   'swiggyTransactionId': '68824855964',\n",
              "   'transactionId': '68824855964',\n",
              "   'transactionStatus': 'success'}],\n",
              " 'payment_confirmation_channel': 'api',\n",
              " 'payment_method': 'PayTM',\n",
              " 'payment_txn_id': '68824855964',\n",
              " 'payment_txn_status': 'success',\n",
              " 'pg_response_time': '2020-04-01 19:30:56',\n",
              " 'post_name': '',\n",
              " 'post_status': 'completed',\n",
              " 'post_type': '',\n",
              " 'prep_time': '25',\n",
              " 'rain_mode': '0',\n",
              " 'rating_meta': {'asset_id': 'DE%20Governance/AccountScreenRICHCARD_3x',\n",
              "  'delivery_rating': {'rating': 0},\n",
              "  'restaurant_rating': {'rating': 0}},\n",
              " 'rendering_details': [{'currency': 'rupees',\n",
              "   'display_text': 'Item Total',\n",
              "   'hierarchy': 1,\n",
              "   'icon': '',\n",
              "   'info_text': '',\n",
              "   'intermediateText': '',\n",
              "   'key': 'item_total',\n",
              "   'type': 'display',\n",
              "   'value': '311.00'},\n",
              "  {'currency': 'rupees',\n",
              "   'display_text': 'Order Packing Charges',\n",
              "   'hierarchy': 1,\n",
              "   'icon': '',\n",
              "   'info_text': '',\n",
              "   'intermediateText': '',\n",
              "   'key': 'order_packing_charges',\n",
              "   'type': 'display',\n",
              "   'value': '17.00'},\n",
              "  {'currency': 'rupees',\n",
              "   'display_text': 'Delivery Charges',\n",
              "   'hierarchy': 1,\n",
              "   'icon': '',\n",
              "   'info_text': 'Free Delivery for this order',\n",
              "   'intermediateText': '',\n",
              "   'key': 'delivery_charges',\n",
              "   'type': 'display',\n",
              "   'value': '0'},\n",
              "  {'currency': 'rupees',\n",
              "   'display_text': 'Taxes',\n",
              "   'hierarchy': 1,\n",
              "   'icon': '',\n",
              "   'info_text': '',\n",
              "   'intermediateText': '',\n",
              "   'key': 'total_taxes',\n",
              "   'type': 'display',\n",
              "   'value': '16.40'}],\n",
              " 'restaurant_address': '1st Floor, No.29, 4th Cross, Kasavanhalli main road , Bangalore - 560035',\n",
              " 'restaurant_area_code': '8',\n",
              " 'restaurant_area_name': 'Bellandur Sarjapur',\n",
              " 'restaurant_city_code': '1',\n",
              " 'restaurant_city_name': 'Bangalore',\n",
              " 'restaurant_cover_image': 't6c2esjgibs3nluwubvk',\n",
              " 'restaurant_coverage_area': 'bellandur sarjapur',\n",
              " 'restaurant_cuisine': ['American',\n",
              "  'Continental',\n",
              "  'Italian',\n",
              "  'Mediterranean',\n",
              "  'Bakery',\n",
              "  'Salads',\n",
              "  'Desserts',\n",
              "  'Beverages',\n",
              "  'Snacks',\n",
              "  'Asian'],\n",
              " 'restaurant_customer_distance': '3.3',\n",
              " 'restaurant_has_inventory': '0',\n",
              " 'restaurant_id': '43850',\n",
              " 'restaurant_lat_lng': '12.90887990598612,77.68092267972759',\n",
              " 'restaurant_locality': 'Sarjapur',\n",
              " 'restaurant_name': 'The Nosh House',\n",
              " 'restaurant_new_slug': 'the-nosh-house-sarjapur-bellandursarjapur',\n",
              " 'restaurant_offers_discount': 0,\n",
              " 'restaurant_order_rating': 0,\n",
              " 'restaurant_taxation_type': 'GST',\n",
              " 'restaurant_type': 'C',\n",
              " 'savings_shown_to_customer': '25.0',\n",
              " 'sharedOrder': False,\n",
              " 'show_rate_us': False,\n",
              " 'sid': 'lz7d457c-a270-4af3-813a-025f4e140b90',\n",
              " 'sla_difference': '7',\n",
              " 'sla_time': '39',\n",
              " 'special_fee': 0,\n",
              " 'special_fee_effective': 0,\n",
              " 'subscription_gst_expression': '18',\n",
              " 'subscription_tax': 0,\n",
              " 'subscription_total': 0,\n",
              " 'subscription_total_without_tax': 0,\n",
              " 'success_message': 'Total savings on order',\n",
              " 'success_message_info': '₹25',\n",
              " 'success_message_type': 'SUPER',\n",
              " 'success_title': 'Yay! Order received',\n",
              " 'super_specific_discount': 0,\n",
              " 'swiggy_discount_hit_effective': 0,\n",
              " 'swiggy_money': 0,\n",
              " 'swiggy_offers_discount': 0,\n",
              " 'swiggy_offers_discount_effective': 0,\n",
              " 'swuid': 'e28c5a56d6e41e35',\n",
              " 'threshold_fee': 0,\n",
              " 'threshold_fee_effective': 25,\n",
              " 'time_fee': 0,\n",
              " 'time_fee_effective': 0,\n",
              " 'total_tax': 16.4,\n",
              " 'trade_discount': 0,\n",
              " 'trade_discount_effective': 0,\n",
              " 'type_of_partner': 3,\n",
              " 'user_details': {'email_id': 'sbairishal@gmail.com',\n",
              "  'mobile': '9986936104',\n",
              "  'name': 'Soumya Ranjan Bairishal',\n",
              "  'user_id': 1564740},\n",
              " 'uuid': '2f1c0369-2624-4c53-9ff8-1a937b38c4d8',\n",
              " 'waive_off_amount': 0,\n",
              " 'with_de': False}"
            ]
          },
          "metadata": {
            "tags": []
          },
          "execution_count": 21
        }
      ]
    },
    {
      "cell_type": "code",
      "metadata": {
        "id": "Dhy4uu6SqWz0",
        "colab_type": "code",
        "outputId": "d93811d1-1e57-49ce-892a-eab1baa44a1c",
        "colab": {
          "base_uri": "https://localhost:8080/",
          "height": 51
        }
      },
      "source": [
        "df_order_history = json_normalize(order_history_json, max_level=100)\n"
      ],
      "execution_count": 43,
      "outputs": [
        {
          "output_type": "stream",
          "text": [
            "/usr/local/lib/python3.6/dist-packages/ipykernel_launcher.py:1: FutureWarning: pandas.io.json.json_normalize is deprecated, use pandas.json_normalize instead\n",
            "  \"\"\"Entry point for launching an IPython kernel.\n"
          ],
          "name": "stderr"
        }
      ]
    },
    {
      "cell_type": "code",
      "metadata": {
        "id": "pvoNU3cP0Dm0",
        "colab_type": "code",
        "colab": {
          "base_uri": "https://localhost:8080/",
          "height": 51
        },
        "outputId": "ee197985-a319-4f68-f179-7e0672ffe60f"
      },
      "source": [
        "order_item = json_normalize(order_history_json, 'order_items', ['order_id'])"
      ],
      "execution_count": 56,
      "outputs": [
        {
          "output_type": "stream",
          "text": [
            "/usr/local/lib/python3.6/dist-packages/ipykernel_launcher.py:1: FutureWarning: pandas.io.json.json_normalize is deprecated, use pandas.json_normalize instead\n",
            "  \"\"\"Entry point for launching an IPython kernel.\n"
          ],
          "name": "stderr"
        }
      ]
    },
    {
      "cell_type": "code",
      "metadata": {
        "id": "gFt6l0Aw0VvF",
        "colab_type": "code",
        "colab": {}
      },
      "source": [
        "df_order_item = order_item[['item_id', 'name', 'order_id', 'total', 'category_details.category', 'category_details.sub_category', 'quantity']]"
      ],
      "execution_count": 0,
      "outputs": []
    },
    {
      "cell_type": "code",
      "metadata": {
        "id": "-fFDfotAwFoF",
        "colab_type": "code",
        "colab": {
          "base_uri": "https://localhost:8080/",
          "height": 34
        },
        "outputId": "c79bd200-05cd-47bf-c929-a38fe0f455e8"
      },
      "source": [
        "# Column vs row list\n",
        "df_order_history.shape"
      ],
      "execution_count": 44,
      "outputs": [
        {
          "output_type": "execute_result",
          "data": {
            "text/plain": [
              "(173, 245)"
            ]
          },
          "metadata": {
            "tags": []
          },
          "execution_count": 44
        }
      ]
    },
    {
      "cell_type": "code",
      "metadata": {
        "id": "FJnehPpjw769",
        "colab_type": "code",
        "colab": {}
      },
      "source": [
        "filtered_df = df_order_history[['order_id', 'restaurant_name', 'order_time', 'order_delivery_status', 'order_total']]"
      ],
      "execution_count": 0,
      "outputs": []
    },
    {
      "cell_type": "code",
      "metadata": {
        "id": "UiuE1MIhwVUX",
        "colab_type": "code",
        "colab": {}
      },
      "source": [
        "import pandas as pd\n",
        "final_df = pd.merge(filtered_df, df_order_item, on='order_id')"
      ],
      "execution_count": 0,
      "outputs": []
    },
    {
      "cell_type": "code",
      "metadata": {
        "id": "cSXKgj622u5j",
        "colab_type": "code",
        "colab": {}
      },
      "source": [
        "import datetime as dt\n",
        "final_df['order_timestamp'] = pd.to_datetime(final_df['order_time'])\n",
        "# :%H:%M:%S.%f"
      ],
      "execution_count": 0,
      "outputs": []
    },
    {
      "cell_type": "code",
      "metadata": {
        "id": "BjztfhOI5N1Y",
        "colab_type": "code",
        "colab": {}
      },
      "source": [
        "final_df['order_date'] = final_df['order_timestamp'].dt.date"
      ],
      "execution_count": 0,
      "outputs": []
    },
    {
      "cell_type": "code",
      "metadata": {
        "id": "ivxaHoFZ59mq",
        "colab_type": "code",
        "colab": {}
      },
      "source": [
        "final_df['order_time1'] = final_df['order_timestamp'].dt.time"
      ],
      "execution_count": 0,
      "outputs": []
    },
    {
      "cell_type": "code",
      "metadata": {
        "id": "fuNXNHLv7e3Y",
        "colab_type": "code",
        "colab": {
          "base_uri": "https://localhost:8080/",
          "height": 323
        },
        "outputId": "bf3f4e4d-5ba0-4acf-b033-f330bc1653b4"
      },
      "source": [
        "filtered_df['order_timestamp'] = pd.to_datetime(filtered_df['order_time'])\n",
        "filtered_df['order_date'] = filtered_df['order_timestamp'].dt.date\n",
        "filtered_df['order_time1'] = filtered_df['order_timestamp'].dt.time"
      ],
      "execution_count": 87,
      "outputs": [
        {
          "output_type": "stream",
          "text": [
            "/usr/local/lib/python3.6/dist-packages/ipykernel_launcher.py:1: SettingWithCopyWarning: \n",
            "A value is trying to be set on a copy of a slice from a DataFrame.\n",
            "Try using .loc[row_indexer,col_indexer] = value instead\n",
            "\n",
            "See the caveats in the documentation: https://pandas.pydata.org/pandas-docs/stable/user_guide/indexing.html#returning-a-view-versus-a-copy\n",
            "  \"\"\"Entry point for launching an IPython kernel.\n",
            "/usr/local/lib/python3.6/dist-packages/ipykernel_launcher.py:2: SettingWithCopyWarning: \n",
            "A value is trying to be set on a copy of a slice from a DataFrame.\n",
            "Try using .loc[row_indexer,col_indexer] = value instead\n",
            "\n",
            "See the caveats in the documentation: https://pandas.pydata.org/pandas-docs/stable/user_guide/indexing.html#returning-a-view-versus-a-copy\n",
            "  \n",
            "/usr/local/lib/python3.6/dist-packages/ipykernel_launcher.py:3: SettingWithCopyWarning: \n",
            "A value is trying to be set on a copy of a slice from a DataFrame.\n",
            "Try using .loc[row_indexer,col_indexer] = value instead\n",
            "\n",
            "See the caveats in the documentation: https://pandas.pydata.org/pandas-docs/stable/user_guide/indexing.html#returning-a-view-versus-a-copy\n",
            "  This is separate from the ipykernel package so we can avoid doing imports until\n"
          ],
          "name": "stderr"
        }
      ]
    },
    {
      "cell_type": "code",
      "metadata": {
        "id": "aCj9CyMb74am",
        "colab_type": "code",
        "colab": {
          "base_uri": "https://localhost:8080/",
          "height": 80
        },
        "outputId": "a84fd023-155b-48d9-de18-c6067216c820"
      },
      "source": [
        "filtered_df.head(1)"
      ],
      "execution_count": 88,
      "outputs": [
        {
          "output_type": "execute_result",
          "data": {
            "text/html": [
              "<div>\n",
              "<style scoped>\n",
              "    .dataframe tbody tr th:only-of-type {\n",
              "        vertical-align: middle;\n",
              "    }\n",
              "\n",
              "    .dataframe tbody tr th {\n",
              "        vertical-align: top;\n",
              "    }\n",
              "\n",
              "    .dataframe thead th {\n",
              "        text-align: right;\n",
              "    }\n",
              "</style>\n",
              "<table border=\"1\" class=\"dataframe\">\n",
              "  <thead>\n",
              "    <tr style=\"text-align: right;\">\n",
              "      <th></th>\n",
              "      <th>order_id</th>\n",
              "      <th>restaurant_name</th>\n",
              "      <th>order_time</th>\n",
              "      <th>order_delivery_status</th>\n",
              "      <th>order_total</th>\n",
              "      <th>order_timestamp</th>\n",
              "      <th>order_date</th>\n",
              "      <th>order_time1</th>\n",
              "    </tr>\n",
              "  </thead>\n",
              "  <tbody>\n",
              "    <tr>\n",
              "      <th>0</th>\n",
              "      <td>68824855964</td>\n",
              "      <td>The Nosh House</td>\n",
              "      <td>2020-04-01 19:30:56</td>\n",
              "      <td>delivered</td>\n",
              "      <td>364</td>\n",
              "      <td>2020-04-01 19:30:56</td>\n",
              "      <td>2020-04-01</td>\n",
              "      <td>19:30:56</td>\n",
              "    </tr>\n",
              "  </tbody>\n",
              "</table>\n",
              "</div>"
            ],
            "text/plain": [
              "      order_id restaurant_name  ...  order_date order_time1\n",
              "0  68824855964  The Nosh House  ...  2020-04-01    19:30:56\n",
              "\n",
              "[1 rows x 8 columns]"
            ]
          },
          "metadata": {
            "tags": []
          },
          "execution_count": 88
        }
      ]
    },
    {
      "cell_type": "code",
      "metadata": {
        "id": "U9JYpdMu6HTq",
        "colab_type": "code",
        "colab": {
          "base_uri": "https://localhost:8080/",
          "height": 34
        },
        "outputId": "86022a74-2f3f-4275-febd-c22429d9ab4e"
      },
      "source": [
        "filtered_df['order_total'].sum()\n"
      ],
      "execution_count": 85,
      "outputs": [
        {
          "output_type": "execute_result",
          "data": {
            "text/plain": [
              "49712"
            ]
          },
          "metadata": {
            "tags": []
          },
          "execution_count": 85
        }
      ]
    },
    {
      "cell_type": "code",
      "metadata": {
        "id": "jre-c3QB9V7C",
        "colab_type": "code",
        "colab": {
          "base_uri": "https://localhost:8080/",
          "height": 173
        },
        "outputId": "0adbae9c-2130-481c-f71f-7468f0eb688e"
      },
      "source": [
        "filtered_df.head(4)"
      ],
      "execution_count": 93,
      "outputs": [
        {
          "output_type": "execute_result",
          "data": {
            "text/html": [
              "<div>\n",
              "<style scoped>\n",
              "    .dataframe tbody tr th:only-of-type {\n",
              "        vertical-align: middle;\n",
              "    }\n",
              "\n",
              "    .dataframe tbody tr th {\n",
              "        vertical-align: top;\n",
              "    }\n",
              "\n",
              "    .dataframe thead th {\n",
              "        text-align: right;\n",
              "    }\n",
              "</style>\n",
              "<table border=\"1\" class=\"dataframe\">\n",
              "  <thead>\n",
              "    <tr style=\"text-align: right;\">\n",
              "      <th></th>\n",
              "      <th>order_id</th>\n",
              "      <th>restaurant_name</th>\n",
              "      <th>order_time</th>\n",
              "      <th>order_delivery_status</th>\n",
              "      <th>order_total</th>\n",
              "      <th>order_timestamp</th>\n",
              "      <th>order_date</th>\n",
              "      <th>order_time1</th>\n",
              "    </tr>\n",
              "  </thead>\n",
              "  <tbody>\n",
              "    <tr>\n",
              "      <th>0</th>\n",
              "      <td>68824855964</td>\n",
              "      <td>The Nosh House</td>\n",
              "      <td>2020-04-01 19:30:56</td>\n",
              "      <td>delivered</td>\n",
              "      <td>364</td>\n",
              "      <td>2020-04-01 19:30:56</td>\n",
              "      <td>2020-04-01</td>\n",
              "      <td>19:30:56</td>\n",
              "    </tr>\n",
              "    <tr>\n",
              "      <th>1</th>\n",
              "      <td>68798160152</td>\n",
              "      <td>Mani's Dum Biryani</td>\n",
              "      <td>2020-04-01 12:06:01</td>\n",
              "      <td>delivered</td>\n",
              "      <td>726</td>\n",
              "      <td>2020-04-01 12:06:01</td>\n",
              "      <td>2020-04-01</td>\n",
              "      <td>12:06:01</td>\n",
              "    </tr>\n",
              "    <tr>\n",
              "      <th>2</th>\n",
              "      <td>68736167235</td>\n",
              "      <td>Kachori Kafe</td>\n",
              "      <td>2020-03-31 18:52:48</td>\n",
              "      <td>delivered</td>\n",
              "      <td>229</td>\n",
              "      <td>2020-03-31 18:52:48</td>\n",
              "      <td>2020-03-31</td>\n",
              "      <td>18:52:48</td>\n",
              "    </tr>\n",
              "    <tr>\n",
              "      <th>3</th>\n",
              "      <td>68645173804</td>\n",
              "      <td>New Cool Joint</td>\n",
              "      <td>2020-03-30 17:36:14</td>\n",
              "      <td>delivered</td>\n",
              "      <td>288</td>\n",
              "      <td>2020-03-30 17:36:14</td>\n",
              "      <td>2020-03-30</td>\n",
              "      <td>17:36:14</td>\n",
              "    </tr>\n",
              "  </tbody>\n",
              "</table>\n",
              "</div>"
            ],
            "text/plain": [
              "      order_id     restaurant_name  ...  order_date order_time1\n",
              "0  68824855964      The Nosh House  ...  2020-04-01    19:30:56\n",
              "1  68798160152  Mani's Dum Biryani  ...  2020-04-01    12:06:01\n",
              "2  68736167235        Kachori Kafe  ...  2020-03-31    18:52:48\n",
              "3  68645173804      New Cool Joint  ...  2020-03-30    17:36:14\n",
              "\n",
              "[4 rows x 8 columns]"
            ]
          },
          "metadata": {
            "tags": []
          },
          "execution_count": 93
        }
      ]
    },
    {
      "cell_type": "code",
      "metadata": {
        "id": "ILoo4aKh7K0A",
        "colab_type": "code",
        "colab": {
          "base_uri": "https://localhost:8080/",
          "height": 34
        },
        "outputId": "5a1bd38d-e9d8-49ed-a010-5ba0647b9453"
      },
      "source": [
        "filtered_df[((filtered_df['order_timestamp']>pd.Timestamp(2020,3,23)) & (filtered_df['order_timestamp']<pd.Timestamp(2020,4,2)))]['order_total'].sum()"
      ],
      "execution_count": 101,
      "outputs": [
        {
          "output_type": "execute_result",
          "data": {
            "text/plain": [
              "3620"
            ]
          },
          "metadata": {
            "tags": []
          },
          "execution_count": 101
        }
      ]
    }
  ]
}
